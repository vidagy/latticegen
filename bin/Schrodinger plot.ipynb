{
 "cells": [
  {
   "cell_type": "code",
   "execution_count": null,
   "metadata": {
    "collapsed": true
   },
   "outputs": [],
   "source": [
    "path = \"../cmake-build-debug/test/\"\n",
    "iternum = 1\n",
    "filenames = [\"_01_start_inward_R.dat\", \"_02_adams_inward_R.dat\",\n",
    "             \"_03_start_outward_R.dat\", \"_04_adams_outward_R.dat\", \n",
    "             \"_01_start_inward_dR_dr.dat\", \"_02_adams_inward_dR_dr.dat\",\n",
    "             \"_03_start_outward_dR_dr.dat\", \"_04_adams_outward_dR_dr.dat\"]"
   ]
  },
  {
   "cell_type": "code",
   "execution_count": null,
   "metadata": {
    "collapsed": false
   },
   "outputs": [],
   "source": [
    "import numpy as np\n",
    "import matplotlib\n",
    "import matplotlib.pyplot as plt"
   ]
  },
  {
   "cell_type": "code",
   "execution_count": null,
   "metadata": {
    "collapsed": true
   },
   "outputs": [],
   "source": [
    "matplotlib.rcParams['figure.figsize'] = (30.0, 40.0)"
   ]
  },
  {
   "cell_type": "code",
   "execution_count": null,
   "metadata": {
    "collapsed": true
   },
   "outputs": [],
   "source": [
    "def read_data(iternum, filename):\n",
    "    y = []\n",
    "    with open(path + str(iternum) + filename, 'r') as f:\n",
    "        for num in f:\n",
    "            y.append(float(num)) \n",
    "    return y"
   ]
  },
  {
   "cell_type": "code",
   "execution_count": null,
   "metadata": {
    "collapsed": false
   },
   "outputs": [],
   "source": [
    "iternum = 10\n",
    "\n",
    "plt.figure(1)\n",
    "\n",
    "plt.subplot(421)\n",
    "y = read_data(iternum, \"_01_start_inward_R.dat\")\n",
    "plt.plot(y)\n",
    "plt.title(\"_01_start_inward_R.dat\")\n",
    "\n",
    "plt.subplot(423)\n",
    "y = read_data(iternum, \"_02_adams_inward_R.dat\")\n",
    "plt.plot(y)\n",
    "plt.title(\"_02_adams_inward_R.dat\")\n",
    "\n",
    "plt.subplot(422)\n",
    "y = read_data(iternum, \"_01_start_inward_dR_dr.dat\")\n",
    "plt.plot(y)\n",
    "plt.title(\"_01_start_inward_dR_dr.dat\")\n",
    "\n",
    "plt.subplot(424)\n",
    "y = read_data(iternum, \"_02_adams_inward_dR_dr.dat\")\n",
    "plt.plot(y)\n",
    "plt.title(\"_02_adams_inward_dR_dr.dat\")\n",
    "\n",
    "plt.subplot(425)\n",
    "y = read_data(iternum, \"_03_start_outward_R.dat\")\n",
    "plt.plot(y)\n",
    "plt.title(\"_03_start_outward_R.dat\")\n",
    "\n",
    "plt.subplot(427)\n",
    "y = read_data(iternum, \"_04_adams_outward_R.dat\")\n",
    "plt.plot(y)\n",
    "plt.title(\"_04_adams_outward_R.dat\")\n",
    "\n",
    "plt.subplot(426)\n",
    "y = read_data(iternum, \"_03_start_outward_dR_dr.dat\")\n",
    "plt.plot(y)\n",
    "plt.title(\"_03_start_outward_dR_dr.dat\")\n",
    "\n",
    "plt.subplot(428)\n",
    "y = read_data(iternum, \"_04_adams_outward_dR_dr.dat\")\n",
    "plt.plot(y)\n",
    "plt.title(\"_04_adams_outward_dR_dr.dat\")\n",
    "\n",
    "plt.show()"
   ]
  }
 ],
 "metadata": {
  "kernelspec": {
   "display_name": "Python 2",
   "language": "python",
   "name": "python2"
  },
  "language_info": {
   "codemirror_mode": {
    "name": "ipython",
    "version": 2
   },
   "file_extension": ".py",
   "mimetype": "text/x-python",
   "name": "python",
   "nbconvert_exporter": "python",
   "pygments_lexer": "ipython2",
   "version": "2.7.12"
  }
 },
 "nbformat": 4,
 "nbformat_minor": 1
}
