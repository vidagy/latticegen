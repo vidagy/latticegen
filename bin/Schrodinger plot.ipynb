{
 "cells": [
  {
   "cell_type": "code",
   "execution_count": null,
   "metadata": {
    "collapsed": true
   },
   "outputs": [],
   "source": [
    "path = \"../cmake-build-debug/test/\"\n",
    "iternum = 1\n",
    "filenames = [\"_01_start_inward_R.dat\", \"_02_adams_inward_R.dat\",\n",
    "             \"_03_start_outward_R.dat\", \"_04_adams_outward_R.dat\", \n",
    "             \"_01_start_inward_dR_dr.dat\", \"_02_adams_inward_dR_dr.dat\",\n",
    "             \"_03_start_outward_dR_dr.dat\", \"_04_adams_outward_dR_dr.dat\"]"
   ]
  },
  {
   "cell_type": "code",
   "execution_count": null,
   "metadata": {
    "collapsed": false
   },
   "outputs": [],
   "source": [
    "import numpy as np\n",
    "import matplotlib\n",
    "import matplotlib.pyplot as plt"
   ]
  },
  {
   "cell_type": "code",
   "execution_count": null,
   "metadata": {
    "collapsed": true
   },
   "outputs": [],
   "source": [
    "matplotlib.rcParams['figure.figsize'] = (30.0, 40.0)"
   ]
  },
  {
   "cell_type": "code",
   "execution_count": null,
   "metadata": {
    "collapsed": true
   },
   "outputs": [],
   "source": [
    "def read_ref_data(filename):\n",
    "    y = []\n",
    "    with open(path + filename, 'r') as f:\n",
    "        for num in f:\n",
    "            y.append(float(num)) \n",
    "    return y"
   ]
  },
  {
   "cell_type": "code",
   "execution_count": null,
   "metadata": {
    "collapsed": false
   },
   "outputs": [],
   "source": [
    "matplotlib.rcParams['figure.figsize'] = (15.0, 6.0)\n",
    "plt.figure(1)\n",
    "\n",
    "x = read_ref_data(\"ReferenceSolution_r.dat\")\n",
    "y10 = read_ref_data(\"ReferenceSolution_reference_R10.dat\")\n",
    "y20 = read_ref_data(\"ReferenceSolution_reference_R20.dat\")\n",
    "y21 = read_ref_data(\"ReferenceSolution_reference_R21.dat\")\n",
    "y30 = read_ref_data(\"ReferenceSolution_reference_R30.dat\")\n",
    "y31 = read_ref_data(\"ReferenceSolution_reference_R31.dat\")\n",
    "y32 = read_ref_data(\"ReferenceSolution_reference_R32.dat\")\n",
    "\n",
    "plt.plot(x,y10, '-',label=\"R10\")\n",
    "plt.plot(x,y20, label=\"R20\")\n",
    "plt.plot(x,y21, label=\"R21\")\n",
    "plt.plot(x,y30, label=\"R30\")\n",
    "plt.plot(x,y31, label=\"R31\")\n",
    "plt.plot(x,y32, label=\"R32\")\n",
    "\n",
    "plt.legend()\n",
    "\n",
    "plt.title(\"Reference solutions\")\n",
    "plt.show()"
   ]
  },
  {
   "cell_type": "code",
   "execution_count": null,
   "metadata": {
    "collapsed": false,
    "scrolled": false
   },
   "outputs": [],
   "source": [
    "matplotlib.rcParams['figure.figsize'] = (15.0, 10.0)\n",
    "plt.figure(2)\n",
    "\n",
    "x = read_ref_data(\"ReferenceSolution_r.dat\")\n",
    "y10 = read_ref_data(\"ReferenceSolution_reference_R10.dat\")\n",
    "r10 = read_ref_data(\"adams_on_R10.dat\")\n",
    "dy10 = read_ref_data(\"ReferenceSolution_reference_dR_dr_10.dat\")\n",
    "dr10 = read_ref_data(\"adams_on_dR_dr_10.dat\")\n",
    "\n",
    "plt.plot(x, y10, '-o', label=\"R10\")\n",
    "plt.plot(x, r10, '-o', label=\"adams on R10\")\n",
    "plt.plot(x,dy10, '-o', label=\"dR_dr 10\")\n",
    "plt.plot(x,dr10, '-o', label=\"adams on dR_dr 10\")\n",
    "\n",
    "# plt.xlim([0.0, 5])\n",
    "# plt.ylim([-0.001, 0.8])\n",
    "plt.legend()\n",
    "\n",
    "plt.title(\"Adams Moulton on exact solution\")\n",
    "plt.show()\n",
    "\n",
    "diff_R = []\n",
    "diff_dR = []\n",
    "for i in range(len(x)):\n",
    "    diff_R.append(abs(y10[i]-r10[i]))\n",
    "    diff_dR.append(abs(dy10[i]-dr10[i]))\n",
    "\n",
    "plt.plot(x, diff_R, '-o', label=\"diff_R\")\n",
    "plt.plot(x, diff_dR, '-o', label=\"diff_dR\")\n",
    "plt.show()"
   ]
  },
  {
   "cell_type": "code",
   "execution_count": null,
   "metadata": {
    "collapsed": true
   },
   "outputs": [],
   "source": [
    "def read_data(iternum, filename):\n",
    "    y = []\n",
    "    with open(path + str(iternum) + filename, 'r') as f:\n",
    "        for num in f:\n",
    "            y.append(float(num)) \n",
    "    return y"
   ]
  },
  {
   "cell_type": "code",
   "execution_count": null,
   "metadata": {
    "collapsed": false,
    "scrolled": false
   },
   "outputs": [],
   "source": [
    "iternum = 1\n",
    "xrange = [1.0, 3.0]\n",
    "yrange = [-0.2, 0.4]\n",
    "\n",
    "# x = read_ref_data(\"ReferenceSolution_r.dat\")\n",
    "x = range(0,500)\n",
    "\n",
    "plt.figure(1)\n",
    "\n",
    "plt.subplot(521)\n",
    "y = read_data(iternum, \"_01_start_inward_R.dat\")\n",
    "plt.plot(x,y)\n",
    "\n",
    "# plt.xlim(xrange)\n",
    "# plt.ylim(yrange)\n",
    "plt.title(\"_01_start_inward_R.dat\")\n",
    "\n",
    "plt.subplot(523)\n",
    "y = read_data(iternum, \"_02_adams_inward_R.dat\")\n",
    "plt.plot(x,y)\n",
    "# plt.xlim(xrange)\n",
    "# plt.ylim(yrange)\n",
    "plt.title(\"_02_adams_inward_R.dat\")\n",
    "\n",
    "plt.subplot(522)\n",
    "y = read_data(iternum, \"_01_start_inward_dR_dr.dat\")\n",
    "plt.plot(x,y)\n",
    "# plt.xlim(xrange)\n",
    "# plt.ylim(yrange)\n",
    "plt.title(\"_01_start_inward_dR_dr.dat\")\n",
    "\n",
    "plt.subplot(524)\n",
    "y = read_data(iternum, \"_02_adams_inward_dR_dr.dat\")\n",
    "plt.plot(x,y)\n",
    "# plt.xlim(xrange)\n",
    "# plt.ylim(yrange)\n",
    "plt.title(\"_02_adams_inward_dR_dr.dat\")\n",
    "\n",
    "plt.subplot(525)\n",
    "y = read_data(iternum, \"_03_start_outward_R.dat\")\n",
    "plt.plot(x,y, '-o')\n",
    "# plt.xlim(xrange)\n",
    "# plt.ylim(yrange)\n",
    "plt.title(\"_03_start_outward_R.dat\")\n",
    "\n",
    "plt.subplot(527)\n",
    "y = read_data(iternum, \"_04_adams_outward_R.dat\")\n",
    "plt.plot(x,y, '-o')\n",
    "# plt.xlim(xrange)\n",
    "# plt.ylim(yrange)\n",
    "plt.title(\"_04_adams_outward_R.dat\")\n",
    "\n",
    "plt.subplot(526)\n",
    "y = read_data(iternum, \"_03_start_outward_dR_dr.dat\")\n",
    "plt.plot(x,y, '-o')\n",
    "# plt.xlim(xrange)\n",
    "# plt.ylim(yrange)\n",
    "plt.title(\"_03_start_outward_dR_dr.dat\")\n",
    "\n",
    "plt.subplot(528)\n",
    "y = read_data(iternum, \"_04_adams_outward_dR_dr.dat\")\n",
    "plt.plot(x,y, '-o')\n",
    "# plt.xlim(xrange)\n",
    "# plt.ylim(yrange)\n",
    "plt.title(\"_04_adams_outward_dR_dr.dat\")\n",
    "\n",
    "plt.subplot(5,2,9)\n",
    "y = read_data(iternum, \"_06_after_match_R.dat\")\n",
    "plt.plot(x,y, '-o')\n",
    "# plt.xlim(xrange)\n",
    "# plt.ylim(yrange)\n",
    "plt.title(\"_06_after_match_R.dat\")\n",
    "\n",
    "plt.subplot(5,2,10)\n",
    "y = read_data(iternum, \"_06_after_match_dR_dr.dat\")\n",
    "plt.plot(x,y, '-o')\n",
    "# plt.xlim(xrange)\n",
    "# plt.ylim(yrange)\n",
    "plt.title(\"_06_after_match_dR_dr.dat\")\n",
    "\n",
    "\n",
    "plt.show()"
   ]
  }
 ],
 "metadata": {
  "kernelspec": {
   "display_name": "Python 2",
   "language": "python",
   "name": "python2"
  },
  "language_info": {
   "codemirror_mode": {
    "name": "ipython",
    "version": 2
   },
   "file_extension": ".py",
   "mimetype": "text/x-python",
   "name": "python",
   "nbconvert_exporter": "python",
   "pygments_lexer": "ipython2",
   "version": "2.7.12"
  }
 },
 "nbformat": 4,
 "nbformat_minor": 1
}
