{
 "cells": [
  {
   "cell_type": "markdown",
   "metadata": {},
   "source": [
    "Shape functions"
   ]
  },
  {
   "cell_type": "code",
   "execution_count": null,
   "metadata": {
    "collapsed": true
   },
   "outputs": [],
   "source": [
    "import matplotlib\n",
    "import matplotlib.pyplot as plt\n",
    "from mpl_toolkits.mplot3d import Axes3D\n",
    "from matplotlib import cm\n",
    "\n",
    "%matplotlib notebook\n",
    "path = \"../cmake-build-debug/test/\""
   ]
  },
  {
   "cell_type": "code",
   "execution_count": null,
   "metadata": {
    "collapsed": true
   },
   "outputs": [],
   "source": [
    "def read_r(filename):\n",
    "    r = []\n",
    "    with open(path + filename, 'r') as f:\n",
    "        for line in f:\n",
    "            r.append(float(line.strip()))\n",
    "                              \n",
    "    return r\n",
    "\n",
    "def read_data(filename):\n",
    "    val_re = []\n",
    "    val_im = []\n",
    "    with open(path + filename, 'r') as f:\n",
    "        for line in f:\n",
    "            nums = list(map(lambda x: x.strip(), line.split('\\t')))\n",
    "            val_re.append(float(nums[0]))\n",
    "            val_im.append(float(nums[1]))\n",
    "                              \n",
    "    return (val_re, val_im)"
   ]
  },
  {
   "cell_type": "code",
   "execution_count": null,
   "metadata": {
    "collapsed": false,
    "scrolled": false
   },
   "outputs": [],
   "source": [
    "matplotlib.rcParams['figure.figsize'] = (10.0, 25.0)\n",
    "fig = plt.figure()\n",
    "\n",
    "r = read_r(\"shape_functions_r.dat\")\n",
    "\n",
    "def get_subplot(subplotid, filename):\n",
    "    ax = fig.add_subplot(13,2,subplotid)\n",
    "    (val_re, val_im) = read_data(filename)\n",
    "\n",
    "    ax.plot(r, val_re, color='blue')\n",
    "    ax.plot(r, val_im, color='red')\n",
    "\n",
    "get_subplot(1,\"shape_function00.dat\")\n",
    "get_subplot(2,\"shape_function1-1.dat\")\n",
    "get_subplot(3,\"shape_function10.dat\")\n",
    "get_subplot(4,\"shape_function1-1.dat\")\n",
    "get_subplot(5,\"shape_function22.dat\")\n",
    "get_subplot(6,\"shape_function21.dat\")\n",
    "get_subplot(7,\"shape_function20.dat\")\n",
    "get_subplot(8,\"shape_function2-1.dat\")\n",
    "get_subplot(9,\"shape_function2-2.dat\")\n",
    "get_subplot(10,\"shape_function33.dat\")\n",
    "get_subplot(11,\"shape_function32.dat\")\n",
    "get_subplot(12,\"shape_function31.dat\")\n",
    "get_subplot(13,\"shape_function30.dat\")\n",
    "get_subplot(14,\"shape_function3-1.dat\")\n",
    "get_subplot(15,\"shape_function3-2.dat\")\n",
    "get_subplot(16,\"shape_function3-3.dat\")\n",
    "get_subplot(17,\"shape_function44.dat\")\n",
    "get_subplot(18,\"shape_function43.dat\")\n",
    "get_subplot(19,\"shape_function42.dat\")\n",
    "get_subplot(20,\"shape_function41.dat\")\n",
    "get_subplot(21,\"shape_function40.dat\")\n",
    "get_subplot(22,\"shape_function4-1.dat\")\n",
    "get_subplot(23,\"shape_function4-2.dat\")\n",
    "get_subplot(24,\"shape_function4-3.dat\")\n",
    "get_subplot(25,\"shape_function4-4.dat\")\n",
    "\n",
    "#plt.xlim([-.8,.8])\n",
    "#plt.ylim([-.8,.8])\n",
    "\n",
    "# ax.plot(x, y, 'd', color='red')\n",
    "# ax.plot(xx, yy, 'o ', color = 'blue')\n",
    "\n",
    "plt.show()"
   ]
  }
 ],
 "metadata": {
  "kernelspec": {
   "display_name": "Python 3",
   "language": "python",
   "name": "python3"
  },
  "language_info": {
   "codemirror_mode": {
    "name": "ipython",
    "version": 3
   },
   "file_extension": ".py",
   "mimetype": "text/x-python",
   "name": "python",
   "nbconvert_exporter": "python",
   "pygments_lexer": "ipython3",
   "version": "3.5.2"
  }
 },
 "nbformat": 4,
 "nbformat_minor": 1
}
