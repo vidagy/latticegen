{
 "cells": [
  {
   "cell_type": "code",
   "execution_count": null,
   "metadata": {
    "collapsed": true
   },
   "outputs": [],
   "source": [
    "import matplotlib\n",
    "import matplotlib.pyplot as plt\n",
    "from mpl_toolkits.mplot3d import Axes3D\n",
    "from matplotlib import cm\n",
    "\n",
    "%matplotlib notebook\n",
    "matplotlib.rcParams['figure.figsize'] = (6.0,6.0)\n",
    "path = \"../cmake-build-debug/test/\""
   ]
  },
  {
   "cell_type": "code",
   "execution_count": null,
   "metadata": {
    "collapsed": true
   },
   "outputs": [],
   "source": [
    "def read_data(filename):\n",
    "    x = []\n",
    "    y = []\n",
    "    z = []\n",
    "    w = []\n",
    "    with open(path + filename, 'r') as f:\n",
    "        for line in f:\n",
    "            nums = list(map(lambda x: x.strip(), line.split('\\t')))\n",
    "            x.append(float(nums[0]))\n",
    "            y.append(float(nums[1]))\n",
    "            z.append(float(nums[2]))\n",
    "            w.append(float(nums[3]))\n",
    "                              \n",
    "    return (x, y, z, w)"
   ]
  },
  {
   "cell_type": "code",
   "execution_count": null,
   "metadata": {
    "collapsed": false
   },
   "outputs": [],
   "source": [
    "fig = plt.figure()\n",
    "\n",
    "# pick from 0..31\n",
    "pick = 15\n",
    "\n",
    "quadratures = [\n",
    "    6, 14, 26, 38, 50, 74, 86, 110, 146, 170, 194, 230, 266, \n",
    "    302, 350, 434, 590, 770, 974, 1202, 1454, 1730, 2030, \n",
    "    2354, 2702, 3074, 3470, 3890, 4334, 4802, 5294, 5810\n",
    "]\n",
    "\n",
    "scale = 5.0 * quadratures[pick]\n",
    "\n",
    "def get_plot(filename):\n",
    "    ax = fig.add_subplot(111, projection='3d')\n",
    "    (x, y, z, w) = read_data(filename)\n",
    "    \n",
    "    for i in range(len(w)):\n",
    "        w[i]*=scale\n",
    "            \n",
    "    ax.scatter(x, y, z, s=w, color='blue')\n",
    "\n",
    "    \n",
    "get_plot(\"Lebedev_\" + str(quadratures[pick]) + \".dat\")\n",
    "\n",
    "plt.show()"
   ]
  },
  {
   "cell_type": "code",
   "execution_count": null,
   "metadata": {
    "collapsed": false
   },
   "outputs": [],
   "source": [
    "fig = plt.figure()\n",
    "\n",
    "# [1,4]\n",
    "pick = 2\n",
    "\n",
    "scale = 5.0 * 16 * pow(4, pick)\n",
    "\n",
    "def get_plot(filename):\n",
    "    ax = fig.add_subplot(111, projection='3d')\n",
    "    (x, y, z, w) = read_data(filename)\n",
    "    \n",
    "    for i in range(len(w)):\n",
    "        w[i]*=scale\n",
    "            \n",
    "    ax.scatter(x, y, z, s=w, color='blue')\n",
    "\n",
    "    \n",
    "get_plot(\"Icosahedral_\" + str(pick) + \".dat\")\n",
    "\n",
    "plt.show()"
   ]
  },
  {
   "cell_type": "code",
   "execution_count": null,
   "metadata": {
    "collapsed": false
   },
   "outputs": [],
   "source": [
    "fig = plt.figure()\n",
    "\n",
    "# [1,4]\n",
    "pick = 4\n",
    "\n",
    "scale = 10 * 2 * pow(4, pick)\n",
    "\n",
    "def get_plot(filename):\n",
    "    ax = fig.add_subplot(111, projection='3d')\n",
    "    (x, y, z, w) = read_data(filename)\n",
    "    \n",
    "    for i in range(len(w)):\n",
    "        w[i]*=scale\n",
    "            \n",
    "    ax.scatter(x, y, z, s=w, color='blue')\n",
    "\n",
    "    \n",
    "get_plot(\"Octahedral_\" + str(pick) + \".dat\")\n",
    "\n",
    "plt.show()"
   ]
  }
 ],
 "metadata": {
  "kernelspec": {
   "display_name": "Python 3",
   "language": "python",
   "name": "python3"
  },
  "language_info": {
   "codemirror_mode": {
    "name": "ipython",
    "version": 3
   },
   "file_extension": ".py",
   "mimetype": "text/x-python",
   "name": "python",
   "nbconvert_exporter": "python",
   "pygments_lexer": "ipython3",
   "version": "3.5.2"
  }
 },
 "nbformat": 4,
 "nbformat_minor": 1
}
