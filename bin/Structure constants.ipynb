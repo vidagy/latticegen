{
 "cells": [
  {
   "cell_type": "code",
   "execution_count": null,
   "metadata": {
    "collapsed": true
   },
   "outputs": [],
   "source": [
    "import matplotlib\n",
    "import matplotlib.pyplot as plt\n",
    "from mpl_toolkits.mplot3d import Axes3D\n",
    "from matplotlib import cm\n",
    "\n",
    "%matplotlib notebook\n",
    "matplotlib.rcParams['figure.figsize'] = (6.0, 6.0)\n",
    "path = \"../cmake-build-debug/test/\""
   ]
  },
  {
   "cell_type": "code",
   "execution_count": null,
   "metadata": {
    "collapsed": false
   },
   "outputs": [],
   "source": [
    "def read_data(filename, z_filter):\n",
    "    x = []\n",
    "    y = []\n",
    "    z = []\n",
    "    val_re = []\n",
    "    val_im = []\n",
    "    with open(path + filename, 'r') as f:\n",
    "        for line in f:\n",
    "            nums = list(map(lambda x: x.strip(), line.split('\\t')))\n",
    "            if abs(float(nums[2]) - z_filter) < 1e-5:\n",
    "                x.append(float(nums[0]))\n",
    "                y.append(float(nums[1]))\n",
    "                z.append(float(nums[2]))\n",
    "                val_re.append(float(nums[3]))\n",
    "                val_im.append(float(nums[4]))\n",
    "                              \n",
    "    return (x, y, z, val_re, val_im)"
   ]
  },
  {
   "cell_type": "code",
   "execution_count": null,
   "metadata": {
    "collapsed": false
   },
   "outputs": [],
   "source": [
    "matplotlib.rcParams['figure.figsize'] = (10.0, 10.0)\n",
    "fig = plt.figure()\n",
    "\n",
    "def get_subplot(subplotid, filename):\n",
    "    ax = fig.add_subplot(subplotid, projection='3d')\n",
    "    z_0 = 0.0\n",
    "    z_1 = 0.07853981633974483\n",
    "    (x, y, z, val_re, val_im) = read_data(filename, 1.0*z_1)\n",
    "\n",
    "    # ax.tricontour(x, y, val_re, 20, cmap=cm.coolwarm)\n",
    "    ax.plot_trisurf(x, y, val_re, cmap=cm.coolwarm)\n",
    "    # ax.plot_trisurf(x, y, val_im, cmap=cm.coolwarm)\n",
    "\n",
    "get_subplot(221,\"rec_struct_z_l0_m0.dat\")\n",
    "get_subplot(222,\"rec_struct_z_l1_m-1.dat\")\n",
    "get_subplot(223,\"rec_struct_z_l1_m0.dat\")\n",
    "get_subplot(224,\"rec_struct_z_l1_m1.dat\")\n",
    "\n",
    "plt.xlim([-.8,.8])\n",
    "plt.ylim([-.8,.8])\n",
    "\n",
    "# ax.plot(x, y, 'd', color='red')\n",
    "# ax.plot(xx, yy, 'o ', color = 'blue')\n",
    "\n",
    "plt.show()"
   ]
  },
  {
   "cell_type": "code",
   "execution_count": null,
   "metadata": {
    "collapsed": false
   },
   "outputs": [],
   "source": [
    "matplotlib.rcParams['figure.figsize'] = (5.0, 5.0)\n",
    "def read_vect(filename, transform):\n",
    "    x = []\n",
    "    y = []\n",
    "    z = []\n",
    "    with open(path + filename, 'r') as f:\n",
    "        for line in f:\n",
    "            nums = list(map(lambda x: x.strip(), line.split('\\t')))\n",
    "            xx = float(nums[0])\n",
    "            if transform and xx < 0.0 : \n",
    "                xx *= -1.0\n",
    "            yy = float(nums[1])\n",
    "            if transform and yy < 0.0 : \n",
    "                yy *= -1.0\n",
    "            if transform and xx < yy:\n",
    "                tmp = xx\n",
    "                xx = yy\n",
    "                yy = tmp\n",
    "            zz = float(nums[2])\n",
    "            x.append(xx)\n",
    "            y.append(yy)\n",
    "            z.append(zz)\n",
    "                              \n",
    "    return (x, y, z)\n",
    "\n",
    "fig = plt.figure()\n",
    "ax = fig.add_subplot(111, projection='3d')\n",
    "\n",
    "(x,y,z) = read_vect(\"replica_shell.dat\", False)\n",
    "(xx,yy,zz) = read_vect(\"irreduc_shell.dat\", False)\n",
    "ax.scatter(x, y, z, 'd', color='red')\n",
    "ax.scatter(xx, yy, zz, 'o', color = 'blue')\n",
    "\n",
    "plt.show()"
   ]
  }
 ],
 "metadata": {
  "kernelspec": {
   "display_name": "Python 3",
   "language": "python",
   "name": "python3"
  },
  "language_info": {
   "codemirror_mode": {
    "name": "ipython",
    "version": 3
   },
   "file_extension": ".py",
   "mimetype": "text/x-python",
   "name": "python",
   "nbconvert_exporter": "python",
   "pygments_lexer": "ipython3",
   "version": "3.5.2"
  }
 },
 "nbformat": 4,
 "nbformat_minor": 1
}
