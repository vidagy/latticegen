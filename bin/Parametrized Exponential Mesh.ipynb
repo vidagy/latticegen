{
 "cells": [
  {
   "cell_type": "code",
   "execution_count": null,
   "metadata": {
    "collapsed": true
   },
   "outputs": [],
   "source": [
    "import math\n",
    "import matplotlib\n",
    "import matplotlib.pyplot as plt"
   ]
  },
  {
   "cell_type": "code",
   "execution_count": null,
   "metadata": {
    "collapsed": true
   },
   "outputs": [],
   "source": [
    "def modified_exp_mesh(a, b, scale, N):\n",
    "    dx = math.log(b/a) / (N-1)\n",
    "    scaled_dx = scale * dx\n",
    "    multiplier = (b-a)/(math.exp(scaled_dx*(N-1))-1)\n",
    "    shift = a - multiplier\n",
    "    res = []\n",
    "    for i in range(N):\n",
    "        res.append(multiplier*math.exp(scaled_dx*i) + shift)\n",
    "        \n",
    "    return res"
   ]
  },
  {
   "cell_type": "code",
   "execution_count": null,
   "metadata": {
    "collapsed": true
   },
   "outputs": [],
   "source": [
    "def original_exp_mesh(a,b,N):\n",
    "    dx = math.log(b/a) / (N-1)\n",
    "    res = []\n",
    "    for i in range(N):\n",
    "        res.append(a*math.exp(dx*i))\n",
    "        \n",
    "    return res"
   ]
  },
  {
   "cell_type": "code",
   "execution_count": null,
   "metadata": {
    "collapsed": false
   },
   "outputs": [],
   "source": [
    "matplotlib.rcParams['figure.figsize'] = (15.0, 6.0)\n",
    "plt.figure(1)\n",
    "\n",
    "N = 200\n",
    "a = 0.01\n",
    "b = 5.0\n",
    "\n",
    "o_mesh = original_exp_mesh(a, b, N)\n",
    "\n",
    "plt.plot(o_mesh, range(len(o_mesh)), 'o',label=\"Original Mesh\")\n",
    "plt.plot(modified_exp_mesh(a, b, 0.9, N), range(len(o_mesh)), 'o',label=\"New Mesh (0.9)\")\n",
    "plt.plot(modified_exp_mesh(a, b, 0.8, N), range(len(o_mesh)), 'o',label=\"New Mesh (0.8)\")\n",
    "plt.plot(modified_exp_mesh(a, b, 0.7, N), range(len(o_mesh)), 'o',label=\"New Mesh (0.7)\")\n",
    "plt.plot(modified_exp_mesh(a, b, 0.6, N), range(len(o_mesh)), 'o',label=\"New Mesh (0.6)\")\n",
    "plt.plot(modified_exp_mesh(a, b, 0.5, N), range(len(o_mesh)), 'o',label=\"New Mesh (0.5)\")\n",
    "plt.plot(modified_exp_mesh(a, b, 0.4, N), range(len(o_mesh)), 'o',label=\"New Mesh (0.4)\")\n",
    "plt.plot(modified_exp_mesh(a, b, 0.3, N), range(len(o_mesh)), 'o',label=\"New Mesh (0.3)\")\n",
    "plt.plot(modified_exp_mesh(a, b, 0.2, N), range(len(o_mesh)), 'o',label=\"New Mesh (0.2)\")\n",
    "plt.plot(modified_exp_mesh(a, b, 0.1, N), range(len(o_mesh)), 'o',label=\"New Mesh (0.1)\")\n",
    "\n",
    "plt.legend()\n",
    "\n",
    "plt.show()"
   ]
  },
  {
   "cell_type": "code",
   "execution_count": null,
   "metadata": {
    "collapsed": true
   },
   "outputs": [],
   "source": [
    "path = \"../cmake-build-debug/test/\"\n",
    "\n",
    "def read_ref_data(filename):\n",
    "    y = []\n",
    "    with open(path + filename, 'r') as f:\n",
    "        for num in f:\n",
    "            y.append(float(num)) \n",
    "    return y"
   ]
  },
  {
   "cell_type": "code",
   "execution_count": null,
   "metadata": {
    "collapsed": false,
    "scrolled": false
   },
   "outputs": [],
   "source": [
    "scale = \"0.700000\"\n",
    "x_ns = read_ref_data(\"ScaledSolution_r_1.000000.dat\")\n",
    "x_s = read_ref_data(\"ScaledSolution_r_\" + scale + \".dat\")\n",
    "\n",
    "def plot_subplot(what):\n",
    "    fig, ax1 = plt.subplots()\n",
    "    y_ns = read_ref_data(\"ScaledSolution_\" + what + \"_1.000000.dat\")\n",
    "    y_s = read_ref_data(\"ScaledSolution_\" + what + \"_\" + scale + \".dat\")\n",
    "    ref_ns = read_ref_data(\"ScaledReferenceSolution_reference_\" + what + \"_1.000000.dat\")\n",
    "    ref_s = read_ref_data(\"ScaledReferenceSolution_reference_\" + what + \"_\" + scale + \".dat\")\n",
    "    s_diff = []\n",
    "    ns_diff = []\n",
    "    for i in range(len(y_s)):\n",
    "        s_diff.append(y_s[i] - ref_s[i])\n",
    "        ns_diff.append(y_ns[i] - ref_ns[i])\n",
    "    l_ns = \"NS\" + what\n",
    "    l_s = \"S\" + what\n",
    "    l_ref = \"SRef\" + what\n",
    "    # ax1.plot(x_ns,y_ns, '-^', label=l_ns)\n",
    "    # ax1.plot(x_s,y_s, '-+', label=l_s)\n",
    "    # ax1.plot(x_s,ref_s, '-o', label=l_ref)\n",
    "    # plt.legend()\n",
    "    # ax2 = ax1.twinx()\n",
    "    # ax2.plot(x_ns,ns_diff, '-o', label=l_ns)\n",
    "    plt.plot(x_ns,ns_diff, '-o', label=l_ns)\n",
    "    # ax2.plot(x_s,s_diff, '-x', label=l_s)\n",
    "    plt.plot(x_s,s_diff, '-x', label=l_s)\n",
    "    # plt.ylim([0.0, 1e-9])\n",
    "    plt.legend()\n",
    "    \n",
    "def plot_plot(whats, xrange, yrange):\n",
    "    for what in whats:\n",
    "        plot_subplot(what)\n",
    "        plt.xlim(xrange)\n",
    "        plt.ylim(yrange)\n",
    "        plt.legend()\n",
    "        \n",
    "    \n",
    "xrange = [0.0, 50]\n",
    "yrange = [-1e-7, 1e-7]\n",
    "whats = [\"R10\", \"R20\", \"R21\", \"R30\", \"R31\", \"R32\"]\n",
    "# whats = [\"dR_dr10\", \"dR_dr20\", \"dR_dr21\", \"dR_dr30\", \"dR_dr31\", \"dR_dr32\"]\n",
    "# whats = [\"R10\", \"R20\", \"R30\"]\n",
    "# whats = [\"dR_dr21\", \"dR_dr31\"]\n",
    "# whats = [\"dR_dr10\", \"dR_dr20\", \"dR_dr30\"]\n",
    "\n",
    "plot_plot(whats, xrange, yrange)\n",
    "plt.show()"
   ]
  },
  {
   "cell_type": "code",
   "execution_count": null,
   "metadata": {
    "collapsed": false
   },
   "outputs": [],
   "source": [
    "def plot_scaleplot(what):\n",
    "    plt.figure()\n",
    "    for scale in \"0.300000\", \"0.400000\", \"0.500000\",\"0.600000\", \"0.700000\", \"0.800000\", \"0.900000\", \"1.000000\":\n",
    "        x_s = read_ref_data(\"ScaledSolution_r_\" + scale + \".dat\")\n",
    "        y_s = read_ref_data(\"ScaledSolution_\" + what + \"_\" + scale + \".dat\")\n",
    "        ref_s = read_ref_data(\"ScaledReferenceSolution_reference_\" + what + \"_\" + scale + \".dat\")\n",
    "        s_diff = []\n",
    "        for i in range(len(y_s)):\n",
    "            s_diff.append(y_s[i] - ref_s[i])\n",
    "        l_s = what + \"_\" + scale\n",
    "        plt.plot(x_s,s_diff, '-o', label=l_s)\n",
    "    plt.legend()\n",
    "\n",
    "def measure_plot(whats):\n",
    "    plt.figure()\n",
    "    scales = [\"0.100000\", \"0.200000\", \"0.300000\", \"0.400000\", \"0.500000\", \"0.600000\", \"0.700000\", \"0.800000\", \"0.900000\", \"1.000000\"]\n",
    "    for what in whats:\n",
    "        diff_measure = []\n",
    "        for j in range(len(scales)):\n",
    "            scale = scales[j]\n",
    "            x_s = read_ref_data(\"ScaledSolution_r_\" + scale + \".dat\")\n",
    "            y_s = read_ref_data(\"ScaledSolution_\" + what + \"_\" + scale + \".dat\")\n",
    "            ref_s = read_ref_data(\"ScaledReferenceSolution_reference_\" + what + \"_\" + scale + \".dat\")\n",
    "            s_diff = []\n",
    "            for i in range(len(y_s)):\n",
    "                s_diff.append(abs(y_s[i] - ref_s[i]))\n",
    "            diff_measure.append(0.0)\n",
    "            for i in range(len(y_s)-1):\n",
    "                diff_measure[j] += s_diff[i]*(x_s[i+1] - x_s[i])\n",
    "    \n",
    "        plt.semilogy(scales, diff_measure, '-o', label = what)\n",
    "        plt.legend()\n",
    "    \n",
    "xrange = [0.0, 0.1]\n",
    "plot_scaleplot(\"R30\")\n",
    "\n",
    "measure_plot([\"R10\", \"R20\", \"R21\", \"R30\", \"R31\", \"R32\"])\n",
    "measure_plot([\"dR_dr10\", \"dR_dr20\", \"dR_dr21\", \"dR_dr30\", \"dR_dr31\", \"dR_dr32\"])\n",
    "\n",
    "plt.show()"
   ]
  }
 ],
 "metadata": {
  "kernelspec": {
   "display_name": "Python 2",
   "language": "python",
   "name": "python2"
  },
  "language_info": {
   "codemirror_mode": {
    "name": "ipython",
    "version": 2
   },
   "file_extension": ".py",
   "mimetype": "text/x-python",
   "name": "python",
   "nbconvert_exporter": "python",
   "pygments_lexer": "ipython2",
   "version": "2.7.12"
  }
 },
 "nbformat": 4,
 "nbformat_minor": 1
}
